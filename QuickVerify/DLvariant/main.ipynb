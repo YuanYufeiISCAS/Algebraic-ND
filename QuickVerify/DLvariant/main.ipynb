{
 "cells": [
  {
   "cell_type": "code",
   "execution_count": 6,
   "id": "bad6449e-ed0d-447a-8728-e1dbc5e6c4a4",
   "metadata": {},
   "outputs": [
    {
     "name": "stdout",
     "output_type": "stream",
     "text": [
      "Mask: [1, 10, 17, 19, 26, 33, 34, 35, 42, 49, 50, 58]\n",
      "pr = 0.5338642\n",
      "Mask: [1, 2, 3, 10, 17, 18, 26, 33, 42, 49, 51, 58]\n",
      "pr = 0.5337974\n",
      "Mask: [1, 2, 4, 10, 17, 18, 19, 26, 33, 35, 36, 42, 49, 58]\n",
      "pr = 0.466268\n",
      "Mask: [1, 3, 4, 10, 17, 26, 33, 34, 36, 42, 49, 50, 51, 58]\n",
      "pr = 0.4662504\n"
     ]
    }
   ],
   "source": [
    "from speck import make_pos_data\n",
    "import numpy as np\n",
    "x = make_pos_data(10**7, 7) # Data: E(x), E(x + Delta)\n",
    "\n",
    "S = [# The masks in cipher\n",
    "        [1, 10, 17, 19, 26, 33, 34, 35, 42, 49, 50, 58],\n",
    "        [1, 2, 3, 10, 17, 18, 26, 33, 42, 49, 51, 58],\n",
    "        [1, 2, 4, 10, 17, 18, 19, 26, 33, 35, 36, 42, 49, 58],\n",
    "        [1, 3, 4, 10, 17, 26, 33, 34, 36, 42, 49, 50, 51, 58]\n",
    "]\n",
    "\n",
    "def printls(ls):\n",
    "    t = []\n",
    "    for x in ls:\n",
    "        if x < 32:\n",
    "            t.append(x)\n",
    "        else:\n",
    "            t.append(x)\n",
    "    print(t)\n",
    "\n",
    "def judge(ls):\n",
    "    for x in ls:\n",
    "        if x <= 32 and x+32 not in ls:\n",
    "            return False  # is not a classical DL characteristic\n",
    "    return True  # otherwise\n",
    "\n",
    "for s in S:\n",
    "    l = ((-1)**(np.sum(x[:, s], axis=1, keepdims=True)))\n",
    "    pr = np.sum((l == 1))\n",
    "    flag = judge(s)\n",
    "    if flag == False:\n",
    "        print(\"Mask: \" + str(s))\n",
    "        print(\"pr = \" + str(pr/(10**7)))\n"
   ]
  },
  {
   "cell_type": "code",
   "execution_count": null,
   "id": "34576a14-9670-4c32-af15-2c78e7536d87",
   "metadata": {},
   "outputs": [],
   "source": []
  }
 ],
 "metadata": {
  "kernelspec": {
   "display_name": "tensorflow1",
   "language": "python",
   "name": "tensorflow1"
  },
  "language_info": {
   "codemirror_mode": {
    "name": "ipython",
    "version": 3
   },
   "file_extension": ".py",
   "mimetype": "text/x-python",
   "name": "python",
   "nbconvert_exporter": "python",
   "pygments_lexer": "ipython3",
   "version": "3.9.19"
  }
 },
 "nbformat": 4,
 "nbformat_minor": 5
}
