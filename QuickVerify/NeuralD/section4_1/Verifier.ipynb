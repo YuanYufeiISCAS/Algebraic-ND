{
 "cells": [
  {
   "cell_type": "code",
   "execution_count": 1,
   "id": "56441768-8f65-43a3-a8fd-befc330d1352",
   "metadata": {},
   "outputs": [
    {
     "name": "stderr",
     "output_type": "stream",
     "text": [
      "2025-02-19 16:42:17.265414: I tensorflow/stream_executor/platform/default/dso_loader.cc:49] Successfully opened dynamic library libcudart.so.10.1\n",
      "2025-02-19 16:42:18.579438: I tensorflow/compiler/jit/xla_cpu_device.cc:41] Not creating XLA devices, tf_xla_enable_xla_devices not set\n",
      "2025-02-19 16:42:18.580416: I tensorflow/stream_executor/platform/default/dso_loader.cc:49] Successfully opened dynamic library libcuda.so.1\n",
      "2025-02-19 16:42:18.652557: I tensorflow/core/common_runtime/gpu/gpu_device.cc:1720] Found device 0 with properties: \n",
      "pciBusID: 0000:3b:00.0 name: Tesla T4 computeCapability: 7.5\n",
      "coreClock: 1.59GHz coreCount: 40 deviceMemorySize: 14.58GiB deviceMemoryBandwidth: 298.08GiB/s\n",
      "2025-02-19 16:42:18.654306: I tensorflow/core/common_runtime/gpu/gpu_device.cc:1720] Found device 1 with properties: \n",
      "pciBusID: 0000:5e:00.0 name: Tesla T4 computeCapability: 7.5\n",
      "coreClock: 1.59GHz coreCount: 40 deviceMemorySize: 14.58GiB deviceMemoryBandwidth: 298.08GiB/s\n",
      "2025-02-19 16:42:18.655831: I tensorflow/core/common_runtime/gpu/gpu_device.cc:1720] Found device 2 with properties: \n",
      "pciBusID: 0000:b1:00.0 name: Tesla T4 computeCapability: 7.5\n",
      "coreClock: 1.59GHz coreCount: 40 deviceMemorySize: 14.58GiB deviceMemoryBandwidth: 298.08GiB/s\n",
      "2025-02-19 16:42:18.657221: I tensorflow/core/common_runtime/gpu/gpu_device.cc:1720] Found device 3 with properties: \n",
      "pciBusID: 0000:d9:00.0 name: Tesla T4 computeCapability: 7.5\n",
      "coreClock: 1.59GHz coreCount: 40 deviceMemorySize: 14.58GiB deviceMemoryBandwidth: 298.08GiB/s\n",
      "2025-02-19 16:42:18.657248: I tensorflow/stream_executor/platform/default/dso_loader.cc:49] Successfully opened dynamic library libcudart.so.10.1\n",
      "2025-02-19 16:42:18.659844: I tensorflow/stream_executor/platform/default/dso_loader.cc:49] Successfully opened dynamic library libcublas.so.10\n",
      "2025-02-19 16:42:18.659903: I tensorflow/stream_executor/platform/default/dso_loader.cc:49] Successfully opened dynamic library libcublasLt.so.10\n",
      "2025-02-19 16:42:18.662205: I tensorflow/stream_executor/platform/default/dso_loader.cc:49] Successfully opened dynamic library libcufft.so.10\n",
      "2025-02-19 16:42:18.662550: I tensorflow/stream_executor/platform/default/dso_loader.cc:49] Successfully opened dynamic library libcurand.so.10\n",
      "2025-02-19 16:42:18.665191: I tensorflow/stream_executor/platform/default/dso_loader.cc:49] Successfully opened dynamic library libcusolver.so.10\n",
      "2025-02-19 16:42:18.666612: I tensorflow/stream_executor/platform/default/dso_loader.cc:49] Successfully opened dynamic library libcusparse.so.10\n",
      "2025-02-19 16:42:18.672271: I tensorflow/stream_executor/platform/default/dso_loader.cc:49] Successfully opened dynamic library libcudnn.so.7\n",
      "2025-02-19 16:42:18.684172: I tensorflow/core/common_runtime/gpu/gpu_device.cc:1862] Adding visible gpu devices: 0, 1, 2, 3\n"
     ]
    }
   ],
   "source": [
    "# The notebook is to test results in Section 4.1\n",
    "# Including the 8-round and 9-round Neural Distinguishers.\n",
    "\n",
    "import speck as sp\n",
    "from main import *\n",
    "import tensorflow as tf\n",
    "import os\n",
    "\n",
    "os.environ[\"CUDA_VISIBLE_DEVICES\"] = \"0, 1, 2, 3\"\n",
    "gpus = tf.config.list_physical_devices('GPU')\n",
    "os.environ['TF_FORCE_GPU_ALLOW_GROWTH'] = 'true'\n",
    "\n",
    "depth = 1\n",
    "gpus = tf.config.experimental.list_physical_devices('GPU')\n",
    "if gpus:\n",
    "    try:\n",
    "        # 仅使用 GPU 1\n",
    "        tf.config.experimental.set_visible_devices(gpus[1], 'GPU')\n",
    "        # tf.config.experimental.set_memory_growth(gpus[0], True)  \n",
    "    except RuntimeError as e:\n",
    "        print(e)"
   ]
  },
  {
   "cell_type": "code",
   "execution_count": 3,
   "id": "da551918-cea1-452e-9028-bd6306c6a21d",
   "metadata": {},
   "outputs": [
    {
     "name": "stdout",
     "output_type": "stream",
     "text": [
      "20000/20000 [==============================] - 101s 5ms/step - loss: 0.2500 - acc: 0.5016 - true_negatives: 25001052.0000 - true_positives: 25161504.0000\n"
     ]
    },
    {
     "data": {
      "text/plain": [
       "[0.24999941885471344, 0.5016229748725891, 25001052.0, 25161504.0]"
      ]
     },
     "execution_count": 3,
     "metadata": {},
     "output_type": "execute_result"
    }
   ],
   "source": [
    "# The cell is testing 9r ND\n",
    "\n",
    "test_size = 10**8\n",
    "X, Y = sp.make_train_data_diff(test_size, 9)  \n",
    "new_model_2 = tf.keras.models.load_model('9r2.keras')\n",
    "new_model_2.evaluate(x=X, y=Y, batch_size=5000)"
   ]
  },
  {
   "cell_type": "code",
   "execution_count": 7,
   "id": "21e65179-0bb0-4973-a5e9-1e7d80a45d1a",
   "metadata": {},
   "outputs": [
    {
     "name": "stdout",
     "output_type": "stream",
     "text": [
      "20000/20000 [==============================] - 86s 4ms/step - loss: 0.2494 - acc: 0.5204 - true_negatives_1: 15281235.4748\n"
     ]
    },
    {
     "data": {
      "text/plain": [
       "[0.24944660067558289, 0.520418643951416, 30558726.0]"
      ]
     },
     "execution_count": 7,
     "metadata": {},
     "output_type": "execute_result"
    }
   ],
   "source": [
    "# The cell is testing 8r ND\n",
    "net_8 = make_resnet_8r()\n",
    "net_8.load_weights('./8r.h5')\n",
    "net_8.compile(optimizer='adam',loss='mse',metrics=['acc', keras.metrics.TrueNegatives()])\n",
    "X_8, Y_8 = sp.make_train_data_diff(10**8, 8, diff=(0x2800, 0x0010))\n",
    "net_8.evaluate(X_8, Y_8, batch_size=5000)\n"
   ]
  },
  {
   "cell_type": "code",
   "execution_count": null,
   "id": "45ae17fa-409b-429f-af78-db9e3dc35cdc",
   "metadata": {},
   "outputs": [],
   "source": []
  }
 ],
 "metadata": {
  "kernelspec": {
   "display_name": "tensorflow1",
   "language": "python",
   "name": "tensorflow1"
  },
  "language_info": {
   "codemirror_mode": {
    "name": "ipython",
    "version": 3
   },
   "file_extension": ".py",
   "mimetype": "text/x-python",
   "name": "python",
   "nbconvert_exporter": "python",
   "pygments_lexer": "ipython3",
   "version": "3.9.19"
  }
 },
 "nbformat": 4,
 "nbformat_minor": 5
}
