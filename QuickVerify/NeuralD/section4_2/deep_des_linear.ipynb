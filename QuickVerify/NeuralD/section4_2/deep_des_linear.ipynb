{
 "cells": [
  {
   "cell_type": "code",
   "execution_count": 1,
   "id": "f518a8ca-660c-4a64-9650-9adcc09947bb",
   "metadata": {},
   "outputs": [],
   "source": [
    "import numpy as np\n",
    "from os import urandom\n",
    "from tensorflow.keras.regularizers import l2\n",
    "from tensorflow.keras.backend import concatenate\n",
    "from tensorflow.keras import backend as K\n",
    "from tensorflow.keras import layers\n",
    "from tensorflow.keras.layers import Dense, AveragePooling1D, Conv1D, MaxPooling1D, Input, Reshape, Permute, Add, Flatten, BatchNormalization, Activation, LeakyReLU\n",
    "from tensorflow.keras.models import Model, Sequential\n",
    "from tensorflow.keras.callbacks import ModelCheckpoint, LearningRateScheduler\n",
    "from pickle import dump\n",
    "import tensorflow as tf\n",
    "import tensorflow\n",
    "from sklearn.model_selection import train_test_split\n",
    "\n",
    "def cyclic_lr(num_epochs, high_lr, low_lr):\n",
    "    res = lambda i: low_lr + ((num_epochs-1) - i % num_epochs)/(num_epochs-1) * (high_lr - low_lr)\n",
    "    return res\n",
    "\n",
    "def make_checkpoint(datei):\n",
    "    res = ModelCheckpoint(datei, monitor='val_loss', save_best_only = True)\n",
    "    return res\n",
    "\n",
    "bs = 1024"
   ]
  },
  {
   "cell_type": "code",
   "execution_count": 2,
   "id": "55ed22ed-e081-4447-aba6-b1c735631f84",
   "metadata": {},
   "outputs": [],
   "source": [
    "### make the linear dataset: run the des_linear_dataset.cpp"
   ]
  },
  {
   "cell_type": "code",
   "execution_count": 3,
   "id": "d19cd2ed-c472-4ddc-8c57-b8d06d4abab2",
   "metadata": {},
   "outputs": [],
   "source": [
    "def make_dataset_from_txt(path):\n",
    "    X = []\n",
    "    Y = []\n",
    "    with open(path, 'r') as file:\n",
    "        for line in file:\n",
    "            values = line.split()\n",
    "            binary_values = [bin(int(val, 16))[2:].zfill(64) for val in values[:4]]\n",
    "            x_row = ''.join(binary_values)\n",
    "            X.append(np.array([int(bit) for bit in x_row]))\n",
    "            Y.append(int(values[4]))\n",
    "    return np.array(X), np.array(Y)"
   ]
  },
  {
   "cell_type": "code",
   "execution_count": 4,
   "id": "dfbd2b13-278b-40cd-b8e8-bcf3a6d736bb",
   "metadata": {},
   "outputs": [],
   "source": [
    "### define the resnet model"
   ]
  },
  {
   "cell_type": "code",
   "execution_count": 5,
   "id": "8feeb72b-665c-4c6f-a80b-7a706b699b5a",
   "metadata": {},
   "outputs": [],
   "source": [
    "def make_resnet(num_blocks=2, num_filters=32, num_outputs=1, ds=[64, 64], word_size=64, ks=3, depth=1, reg_param=0.00001, final_activation='sigmoid'):\n",
    "    inp = Input(shape=(num_blocks * word_size * 2,))\n",
    "    rs = Reshape((2 * num_blocks, word_size))(inp)\n",
    "    perm = Permute((2,1))(rs)\n",
    "    conv0 = Conv1D(num_filters, kernel_size=1, padding='same', kernel_regularizer=l2(reg_param))(perm)\n",
    "    conv0 = BatchNormalization()(conv0)\n",
    "    conv0 = Activation('relu')(conv0)\n",
    "    shortcut = conv0\n",
    "    for i in range(depth):\n",
    "        conv1 = Conv1D(num_filters, kernel_size=ks, padding='same', kernel_regularizer=l2(reg_param))(shortcut)\n",
    "        conv1 = BatchNormalization()(conv1)\n",
    "        conv1 = Activation('relu')(conv1)\n",
    "        conv2 = Conv1D(num_filters, kernel_size=ks, padding='same',kernel_regularizer=l2(reg_param))(conv1)\n",
    "        conv2 = BatchNormalization()(conv2)\n",
    "        conv2 = Activation('relu')(conv2)\n",
    "        shortcut = Add()([shortcut, conv2])\n",
    "    flat = Flatten()(shortcut)\n",
    "    for d in ds:\n",
    "        dense = Dense(d,kernel_regularizer=l2(reg_param))(flat)\n",
    "        dense = BatchNormalization()(dense)\n",
    "        dense = Activation('relu')(dense)\n",
    "    out = Dense(num_outputs, activation=final_activation, kernel_regularizer=l2(reg_param))(dense)\n",
    "    model = Model(inputs=inp, outputs=out)\n",
    "    return model"
   ]
  },
  {
   "cell_type": "code",
   "execution_count": 6,
   "id": "e74456fa-6004-47ab-965d-2e67bfe566b2",
   "metadata": {},
   "outputs": [],
   "source": [
    "### train the resnet"
   ]
  },
  {
   "cell_type": "code",
   "execution_count": 7,
   "id": "866c3e42-70fe-4f88-8fd9-1e2ade124d5a",
   "metadata": {},
   "outputs": [
    {
     "name": "stdout",
     "output_type": "stream",
     "text": [
      "Epoch 1/20\n",
      "782/782 [==============================] - 29s 27ms/step - loss: 0.2509 - acc: 0.5443 - val_loss: 0.2444 - val_acc: 0.5639\n",
      "Epoch 2/20\n",
      "  5/782 [..............................] - ETA: 20s - loss: 0.2344 - acc: 0.6475"
     ]
    },
    {
     "name": "stderr",
     "output_type": "stream",
     "text": [
      "C:\\UserSoftwareSpace\\Anaconda3\\envs\\tensorflow26\\lib\\site-packages\\keras\\utils\\generic_utils.py:494: CustomMaskWarning: Custom mask layers require a config and must override get_config. When loading, the custom mask layer must be passed to the custom_objects argument.\n",
      "  warnings.warn('Custom mask layers require a config and must override '\n"
     ]
    },
    {
     "name": "stdout",
     "output_type": "stream",
     "text": [
      "782/782 [==============================] - 20s 26ms/step - loss: 0.2230 - acc: 0.6816 - val_loss: 0.2184 - val_acc: 0.6881\n",
      "Epoch 3/20\n",
      "782/782 [==============================] - 20s 26ms/step - loss: 0.2166 - acc: 0.6911 - val_loss: 0.2146 - val_acc: 0.6945\n",
      "Epoch 4/20\n",
      "782/782 [==============================] - 20s 26ms/step - loss: 0.2143 - acc: 0.6934 - val_loss: 0.2157 - val_acc: 0.6892\n",
      "Epoch 5/20\n",
      "782/782 [==============================] - 20s 26ms/step - loss: 0.2134 - acc: 0.6939 - val_loss: 0.2127 - val_acc: 0.6965\n",
      "Epoch 6/20\n",
      "782/782 [==============================] - 20s 26ms/step - loss: 0.2126 - acc: 0.6943 - val_loss: 0.2121 - val_acc: 0.6951\n",
      "Epoch 7/20\n",
      "782/782 [==============================] - 20s 26ms/step - loss: 0.2120 - acc: 0.6947 - val_loss: 0.2134 - val_acc: 0.6953\n",
      "Epoch 8/20\n",
      "782/782 [==============================] - 21s 26ms/step - loss: 0.2114 - acc: 0.6949 - val_loss: 0.2106 - val_acc: 0.6974\n",
      "Epoch 9/20\n",
      "782/782 [==============================] - 20s 26ms/step - loss: 0.2110 - acc: 0.6950 - val_loss: 0.2106 - val_acc: 0.6975\n",
      "Epoch 10/20\n",
      "782/782 [==============================] - 20s 25ms/step - loss: 0.2105 - acc: 0.6951 - val_loss: 0.2101 - val_acc: 0.6975\n",
      "Epoch 11/20\n",
      "782/782 [==============================] - 20s 26ms/step - loss: 0.2131 - acc: 0.6932 - val_loss: 0.2121 - val_acc: 0.6969\n",
      "Epoch 12/20\n",
      "782/782 [==============================] - 20s 26ms/step - loss: 0.2122 - acc: 0.6941 - val_loss: 0.2113 - val_acc: 0.6958\n",
      "Epoch 13/20\n",
      "782/782 [==============================] - 21s 26ms/step - loss: 0.2119 - acc: 0.6944 - val_loss: 0.2110 - val_acc: 0.6971\n",
      "Epoch 14/20\n",
      "782/782 [==============================] - 21s 26ms/step - loss: 0.2115 - acc: 0.6947 - val_loss: 0.2108 - val_acc: 0.6975\n",
      "Epoch 15/20\n",
      "782/782 [==============================] - 21s 27ms/step - loss: 0.2113 - acc: 0.6947 - val_loss: 0.2108 - val_acc: 0.6974\n",
      "Epoch 16/20\n",
      "782/782 [==============================] - 22s 28ms/step - loss: 0.2109 - acc: 0.6949 - val_loss: 0.2116 - val_acc: 0.6954\n",
      "Epoch 17/20\n",
      "782/782 [==============================] - 21s 27ms/step - loss: 0.2106 - acc: 0.6950 - val_loss: 0.2100 - val_acc: 0.6975\n",
      "Epoch 18/20\n",
      "782/782 [==============================] - 19s 25ms/step - loss: 0.2103 - acc: 0.6950 - val_loss: 0.2096 - val_acc: 0.6975\n",
      "Epoch 19/20\n",
      "782/782 [==============================] - 19s 25ms/step - loss: 0.2100 - acc: 0.6950 - val_loss: 0.2095 - val_acc: 0.6975\n",
      "Epoch 20/20\n",
      "782/782 [==============================] - 20s 25ms/step - loss: 0.2096 - acc: 0.6951 - val_loss: 0.2093 - val_acc: 0.6975\n",
      "Best validation accuracy:  0.6974800229072571\n"
     ]
    }
   ],
   "source": [
    "net = make_resnet()\n",
    "net.compile(optimizer='adam', loss='mse', metrics=['acc'])\n",
    "_X, _Y = make_dataset_from_txt('des_linear_dataset_0.txt')\n",
    "X, X_eval, Y, Y_eval = train_test_split(_X, _Y, test_size=0.2, random_state=42)\n",
    "check = make_checkpoint('./freshly_trained_nets/best_linear_net.h5')\n",
    "lr = LearningRateScheduler(cyclic_lr(10,0.002, 0.0001))\n",
    "h = net.fit(X, Y, epochs=20, batch_size=bs, validation_data=(X_eval, Y_eval), callbacks=[lr,check])\n",
    "print(\"Best validation accuracy: \", np.max(h.history['val_acc']))"
   ]
  },
  {
   "cell_type": "code",
   "execution_count": 8,
   "id": "56788059-a2f5-42e9-942d-66ad1588ca28",
   "metadata": {},
   "outputs": [],
   "source": [
    "### test the resnet"
   ]
  },
  {
   "cell_type": "code",
   "execution_count": 9,
   "id": "32692ceb-e245-452a-8342-1462f1a201ab",
   "metadata": {},
   "outputs": [
    {
     "name": "stdout",
     "output_type": "stream",
     "text": [
      "977/977 [==============================] - 7s 7ms/step - loss: 0.2101 - acc: 0.6955\n"
     ]
    },
    {
     "data": {
      "text/plain": [
       "[0.2100670039653778, 0.6954889893531799]"
      ]
     },
     "execution_count": 9,
     "metadata": {},
     "output_type": "execute_result"
    }
   ],
   "source": [
    "net.load_weights('./freshly_trained_nets/best_linear_net.h5')\n",
    "X_test, Y_test = make_dataset_from_txt('des_linear_dataset_1.txt')\n",
    "net.evaluate(X_test, Y_test, batch_size=bs, verbose=1)"
   ]
  }
 ],
 "metadata": {
  "kernelspec": {
   "display_name": "tf26",
   "language": "python",
   "name": "tensorflow26"
  },
  "language_info": {
   "codemirror_mode": {
    "name": "ipython",
    "version": 3
   },
   "file_extension": ".py",
   "mimetype": "text/x-python",
   "name": "python",
   "nbconvert_exporter": "python",
   "pygments_lexer": "ipython3",
   "version": "3.8.16"
  }
 },
 "nbformat": 4,
 "nbformat_minor": 5
}
